{
    "nbformat_minor": 1, 
    "cells": [
        {
            "source": "import numpy as np # library to handle data in a vectorized manner\n\nimport pandas as pd # library for data analsysis\npd.set_option('display.max_columns', None)\npd.set_option('display.max_rows', None)\n\nimport json # library to handle JSON files\n\n#!conda install -c conda-forge geopy --yes # uncomment this line if you haven't completed the Foursquare API lab\nfrom geopy.geocoders import Nominatim # convert an address into latitude and longitude values\n\nimport requests # library to handle requests\nfrom pandas.io.json import json_normalize # tranform JSON file into a pandas dataframe\n\n# Matplotlib and associated plotting modules\nimport matplotlib.cm as cm\nimport matplotlib.colors as colors\n\n# import k-means from clustering stage\nfrom sklearn.cluster import KMeans\n\n\nprint('Libraries imported.')", 
            "cell_type": "code", 
            "metadata": {}, 
            "outputs": [
                {
                    "output_type": "stream", 
                    "name": "stdout", 
                    "text": "Libraries imported.\n"
                }
            ], 
            "execution_count": 2
        }, 
        {
            "source": "import requests\nimport lxml.html as lh\nimport pandas as pd\n\nurl='https://en.wikipedia.org/wiki/List_of_postal_codes_of_Canada:_M'\n#Create a handle, page, to handle the contents of the website\npage = requests.get(url)\n#Store the contents of the website under doc\ndoc = lh.fromstring(page.content)\n#Parse data that are stored between <tr>..</tr> of HTML\ntr_elements = doc.xpath('//tr')\n\n#Check the length of the first 12 rows\n[len(T) for T in tr_elements[:12]]", 
            "cell_type": "code", 
            "metadata": {}, 
            "outputs": [
                {
                    "output_type": "execute_result", 
                    "data": {
                        "text/plain": "[3, 3, 3, 3, 3, 3, 3, 3, 3, 3, 3, 3]"
                    }, 
                    "execution_count": 3, 
                    "metadata": {}
                }
            ], 
            "execution_count": 3
        }, 
        {
            "source": "tr_elements = doc.xpath('//tr')\n#Create empty list\ncol=[]\ni=0\n#For each row, store each first element (header) and an empty list\nfor t in tr_elements[0]:\n    i+=1\n    name=t.text_content()\n    \n    col.append((name,[]))", 
            "cell_type": "code", 
            "metadata": {}, 
            "outputs": [], 
            "execution_count": 5
        }, 
        {
            "source": "#Since out first row is the header, data is stored on the second row onwards\nfor j in range(1,len(tr_elements)):\n    #T is our j'th row\n    T=tr_elements[j]\n    \n    #If row is not of size 3, the //tr data is not from our table \n    if len(T)!=3:\n        break\n    \n    #i is the index of our column\n    i=0\n    \n    #Iterate through each element of the row\n    for t in T.iterchildren():\n        data=t.text_content() \n        #Check if row is empty\n        if i>0:\n        #Convert any numerical value to integers\n            try:\n                data=int(data)\n            except:\n                pass\n        #Append the data to the empty list of the i'th column\n        col[i][1].append(data)\n        #Increment i for the next column\n        i+=1\n\n[len(C) for (title,C) in col]\n\nDict={title:column for (title,column) in col}\ndf=pd.DataFrame(Dict)\ndf.head()\n", 
            "cell_type": "code", 
            "metadata": {}, 
            "outputs": [
                {
                    "output_type": "execute_result", 
                    "data": {
                        "text/html": "<div>\n<style scoped>\n    .dataframe tbody tr th:only-of-type {\n        vertical-align: middle;\n    }\n\n    .dataframe tbody tr th {\n        vertical-align: top;\n    }\n\n    .dataframe thead th {\n        text-align: right;\n    }\n</style>\n<table border=\"1\" class=\"dataframe\">\n  <thead>\n    <tr style=\"text-align: right;\">\n      <th></th>\n      <th>Borough</th>\n      <th>Neighbourhood</th>\n      <th>Postcode</th>\n    </tr>\n  </thead>\n  <tbody>\n    <tr>\n      <th>0</th>\n      <td>Not assigned</td>\n      <td>Not assigned\\n</td>\n      <td>M1A</td>\n    </tr>\n    <tr>\n      <th>1</th>\n      <td>Not assigned</td>\n      <td>Not assigned\\n</td>\n      <td>M2A</td>\n    </tr>\n    <tr>\n      <th>2</th>\n      <td>North York</td>\n      <td>Parkwoods\\n</td>\n      <td>M3A</td>\n    </tr>\n    <tr>\n      <th>3</th>\n      <td>North York</td>\n      <td>Victoria Village\\n</td>\n      <td>M4A</td>\n    </tr>\n    <tr>\n      <th>4</th>\n      <td>Downtown Toronto</td>\n      <td>Harbourfront\\n</td>\n      <td>M5A</td>\n    </tr>\n  </tbody>\n</table>\n</div>", 
                        "text/plain": "            Borough     Neighbourhood\\n Postcode\n0      Not assigned      Not assigned\\n      M1A\n1      Not assigned      Not assigned\\n      M2A\n2        North York         Parkwoods\\n      M3A\n3        North York  Victoria Village\\n      M4A\n4  Downtown Toronto      Harbourfront\\n      M5A"
                    }, 
                    "execution_count": 10, 
                    "metadata": {}
                }
            ], 
            "execution_count": 10
        }, 
        {
            "source": "df.to_json('Toronto.json')\ndf = pd.read_json('Toronto.json')\ndf.head()", 
            "cell_type": "code", 
            "metadata": {}, 
            "outputs": [
                {
                    "output_type": "execute_result", 
                    "data": {
                        "text/html": "<div>\n<style scoped>\n    .dataframe tbody tr th:only-of-type {\n        vertical-align: middle;\n    }\n\n    .dataframe tbody tr th {\n        vertical-align: top;\n    }\n\n    .dataframe thead th {\n        text-align: right;\n    }\n</style>\n<table border=\"1\" class=\"dataframe\">\n  <thead>\n    <tr style=\"text-align: right;\">\n      <th></th>\n      <th>Borough</th>\n      <th>Neighbourhood</th>\n      <th>Postcode</th>\n    </tr>\n  </thead>\n  <tbody>\n    <tr>\n      <th>0</th>\n      <td>Not assigned</td>\n      <td>Not assigned\\n</td>\n      <td>M1A</td>\n    </tr>\n    <tr>\n      <th>1</th>\n      <td>Not assigned</td>\n      <td>Not assigned\\n</td>\n      <td>M2A</td>\n    </tr>\n    <tr>\n      <th>10</th>\n      <td>Etobicoke</td>\n      <td>Islington Avenue\\n</td>\n      <td>M9A</td>\n    </tr>\n    <tr>\n      <th>100</th>\n      <td>Downtown Toronto</td>\n      <td>Toronto Dominion Centre\\n</td>\n      <td>M5K</td>\n    </tr>\n    <tr>\n      <th>101</th>\n      <td>West Toronto</td>\n      <td>Brockton\\n</td>\n      <td>M6K</td>\n    </tr>\n  </tbody>\n</table>\n</div>", 
                        "text/plain": "              Borough            Neighbourhood\\n Postcode\n0        Not assigned             Not assigned\\n      M1A\n1        Not assigned             Not assigned\\n      M2A\n10          Etobicoke         Islington Avenue\\n      M9A\n100  Downtown Toronto  Toronto Dominion Centre\\n      M5K\n101      West Toronto                 Brockton\\n      M6K"
                    }, 
                    "execution_count": 11, 
                    "metadata": {}
                }
            ], 
            "execution_count": 11
        }, 
        {
            "source": "\ndf1 = df[~df.Borough.str.contains(\"Not assigned\")]\ndf1.head(15)\n", 
            "cell_type": "code", 
            "metadata": {}, 
            "outputs": [
                {
                    "output_type": "execute_result", 
                    "data": {
                        "text/html": "<div>\n<style scoped>\n    .dataframe tbody tr th:only-of-type {\n        vertical-align: middle;\n    }\n\n    .dataframe tbody tr th {\n        vertical-align: top;\n    }\n\n    .dataframe thead th {\n        text-align: right;\n    }\n</style>\n<table border=\"1\" class=\"dataframe\">\n  <thead>\n    <tr style=\"text-align: right;\">\n      <th></th>\n      <th>Borough</th>\n      <th>Neighbourhood</th>\n      <th>Postcode</th>\n    </tr>\n  </thead>\n  <tbody>\n    <tr>\n      <th>10</th>\n      <td>Etobicoke</td>\n      <td>Islington Avenue\\n</td>\n      <td>M9A</td>\n    </tr>\n    <tr>\n      <th>100</th>\n      <td>Downtown Toronto</td>\n      <td>Toronto Dominion Centre\\n</td>\n      <td>M5K</td>\n    </tr>\n    <tr>\n      <th>101</th>\n      <td>West Toronto</td>\n      <td>Brockton\\n</td>\n      <td>M6K</td>\n    </tr>\n    <tr>\n      <th>102</th>\n      <td>West Toronto</td>\n      <td>Exhibition Place\\n</td>\n      <td>M6K</td>\n    </tr>\n    <tr>\n      <th>103</th>\n      <td>West Toronto</td>\n      <td>Parkdale Village\\n</td>\n      <td>M6K</td>\n    </tr>\n    <tr>\n      <th>107</th>\n      <td>Scarborough</td>\n      <td>Clairlea\\n</td>\n      <td>M1L</td>\n    </tr>\n    <tr>\n      <th>108</th>\n      <td>Scarborough</td>\n      <td>Golden Mile\\n</td>\n      <td>M1L</td>\n    </tr>\n    <tr>\n      <th>109</th>\n      <td>Scarborough</td>\n      <td>Oakridge\\n</td>\n      <td>M1L</td>\n    </tr>\n    <tr>\n      <th>11</th>\n      <td>Scarborough</td>\n      <td>Rouge\\n</td>\n      <td>M1B</td>\n    </tr>\n    <tr>\n      <th>110</th>\n      <td>North York</td>\n      <td>Silver Hills\\n</td>\n      <td>M2L</td>\n    </tr>\n    <tr>\n      <th>111</th>\n      <td>North York</td>\n      <td>York Mills\\n</td>\n      <td>M2L</td>\n    </tr>\n    <tr>\n      <th>112</th>\n      <td>North York</td>\n      <td>Downsview West\\n</td>\n      <td>M3L</td>\n    </tr>\n    <tr>\n      <th>113</th>\n      <td>East Toronto</td>\n      <td>The Beaches West\\n</td>\n      <td>M4L</td>\n    </tr>\n    <tr>\n      <th>114</th>\n      <td>East Toronto</td>\n      <td>India Bazaar\\n</td>\n      <td>M4L</td>\n    </tr>\n    <tr>\n      <th>115</th>\n      <td>Downtown Toronto</td>\n      <td>Commerce Court\\n</td>\n      <td>M5L</td>\n    </tr>\n  </tbody>\n</table>\n</div>", 
                        "text/plain": "              Borough            Neighbourhood\\n Postcode\n10          Etobicoke         Islington Avenue\\n      M9A\n100  Downtown Toronto  Toronto Dominion Centre\\n      M5K\n101      West Toronto                 Brockton\\n      M6K\n102      West Toronto         Exhibition Place\\n      M6K\n103      West Toronto         Parkdale Village\\n      M6K\n107       Scarborough                 Clairlea\\n      M1L\n108       Scarborough              Golden Mile\\n      M1L\n109       Scarborough                 Oakridge\\n      M1L\n11        Scarborough                    Rouge\\n      M1B\n110        North York             Silver Hills\\n      M2L\n111        North York               York Mills\\n      M2L\n112        North York           Downsview West\\n      M3L\n113      East Toronto         The Beaches West\\n      M4L\n114      East Toronto             India Bazaar\\n      M4L\n115  Downtown Toronto           Commerce Court\\n      M5L"
                    }, 
                    "execution_count": 12, 
                    "metadata": {}
                }
            ], 
            "execution_count": 12
        }, 
        {
            "source": "df1.shape", 
            "cell_type": "code", 
            "metadata": {}, 
            "outputs": [
                {
                    "output_type": "execute_result", 
                    "data": {
                        "text/plain": "(211, 3)"
                    }, 
                    "execution_count": 13, 
                    "metadata": {}
                }
            ], 
            "execution_count": 13
        }, 
        {
            "source": "", 
            "cell_type": "code", 
            "metadata": {}, 
            "outputs": [], 
            "execution_count": null
        }
    ], 
    "metadata": {
        "kernelspec": {
            "display_name": "Python 3.5", 
            "name": "python3", 
            "language": "python"
        }, 
        "language_info": {
            "mimetype": "text/x-python", 
            "nbconvert_exporter": "python", 
            "version": "3.5.5", 
            "name": "python", 
            "pygments_lexer": "ipython3", 
            "file_extension": ".py", 
            "codemirror_mode": {
                "version": 3, 
                "name": "ipython"
            }
        }
    }, 
    "nbformat": 4
}